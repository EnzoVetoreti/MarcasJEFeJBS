{
  "cells": [
    {
      "cell_type": "markdown",
      "metadata": {
        "id": "wiO0WFeZHm9w"
      },
      "source": [
        "### Tuplas"
      ]
    },
    {
      "cell_type": "markdown",
      "metadata": {
        "id": "h4d2Kg-Y1fp4"
      },
      "source": [
        "Exercício 1 - Utilizando tupla e While True"
      ]
    },
    {
      "cell_type": "code",
      "execution_count": null,
      "metadata": {
        "id": "HEIf47pZ0qWY"
      },
      "outputs": [],
      "source": [
        "tupla =(1, 2, 3, 4, 5, 6, 7, 8, 9, 10)\n",
        "\n",
        "while True:\n",
        "    num = int(input(\"Digite um número entre 1 a 10 (Num diferente para parar): \"))\n",
        "    if num in tupla:\n",
        "        print(\"O número desejado está na consulta.\")\n",
        "    if num > 10 or num < 1:\n",
        "        print(\"Número inválido.\")\n",
        "        break"
      ]
    },
    {
      "cell_type": "markdown",
      "metadata": {
        "id": "ccg6qNvBHep6"
      },
      "source": [
        "Exercício 2"
      ]
    },
    {
      "cell_type": "code",
      "execution_count": null,
      "metadata": {
        "id": "x9ZxxHBMG96k"
      },
      "outputs": [],
      "source": [
        "from random import randint\n",
        "\n",
        "tupla_random = (randint(1, 10), randint(1, 10), randint(1, 10), randint(1, 10), randint(1, 10))\n",
        "\n",
        "print(tupla_random)\n",
        "print(\"Maior valor: \", max(tupla_random))\n",
        "print(\"Menor valor: \", min(tupla_random))"
      ]
    },
    {
      "cell_type": "markdown",
      "metadata": {
        "id": "uj7FMsEK4X87"
      },
      "source": [
        "Exercício 3 - Utilizando For"
      ]
    },
    {
      "cell_type": "code",
      "execution_count": null,
      "metadata": {
        "id": "YvJFsheA4ccd"
      },
      "outputs": [],
      "source": [
        "tupla = (5, 10, 6, 7, 5)\n",
        "\n",
        "usuario = int(input(\"Digite um valor: \"))\n",
        "achado = int()\n",
        "for c in tupla:\n",
        "  if c == usuario:\n",
        "    achado += 1\n",
        "\n",
        "if achado == 0:\n",
        "  print(\"Não foi encontrado\")\n",
        "else:\n",
        "  print(achado)"
      ]
    },
    {
      "cell_type": "markdown",
      "metadata": {
        "id": "tQ8B3-wT8j43"
      },
      "source": [
        "Exercício 4"
      ]
    },
    {
      "cell_type": "code",
      "execution_count": null,
      "metadata": {
        "id": "nWHwTss58mO4"
      },
      "outputs": [],
      "source": [
        "#Função que retorna os produtos semelhantes ao que o usuário pediu.\n",
        "def descricao(nome):\n",
        "  resultado = []\n",
        "\n",
        "  for i in range(len(produto)): #<- Repete baseado a quantidade de valores dentro da tupla de produto.\n",
        "      if nome.lower() in produto[i].lower():\n",
        "          resultado.append((produto[i], preco[i]))\n",
        "  return resultado\n",
        "\n",
        "#Função que procura os valores mais próximos, um acima e um abaixo do valor do usuário.\n",
        "def valorParecido(valor):\n",
        "  max_num = max(preco)\n",
        "  min_num = min(preco)\n",
        "\n",
        "  for i in preco: #<- Percorre a tupla de preços, e troca o valor das variáveis baseado no quão perto ela está do valor do usuário.\n",
        "    if i < max_num and  i > valor:\n",
        "      max_num = i\n",
        "    if i > min_num and i < valor:\n",
        "      min_num = i\n",
        "  return(max_num, min_num)\n",
        "\n",
        "#Tupla de produtos\n",
        "produto = ('Pão de queijo 400g', 'Salsicha Hot-Dog 500g', 'Pão de alho baguete 400g', 'Filé de Peito de Frango 1Kg', 'Isca de Frango 300g ', 'Linguiça toscana 700g ',  'Pedaço de Filé de Salmão 500g', 'Filé de Tilápia 250g', 'Bife de Filé Mignon 900g', 'Carne moída patinho 900g')\n",
        "#Tupla de preços\n",
        "preco = (10.76, 9.96, 10.96, 19.96, 13.96, 17.96, 54.96, 13.9, 89.96, 39.97)\n",
        "\n",
        "print(\"\"\"-.-.-.-.-.-.-.-.-.-.-.-.-.-.--.-.-.-.-.-.-.-.-.-.-.-.-.\n",
        "Produtos                                 Preços\n",
        "-.-.-.-.-.-.-.-.-.-.-.-.-.-.-.-.-.-.-.-.-.-.-.-.-.-.-.-\"\"\")\n",
        "\n",
        "for c in range(len(produto)): #<- Cria um menu de produtos e seus respectivos preços.\n",
        "  print(f\"{produto[c]:.<40}R${preco[c]}\")\n",
        "\n",
        "usuario = str(input(\"Digite o produto que deseja ver a descrição: \"))\n",
        "print(descricao(usuario))\n",
        "\n",
        "usuario2 = float(input(\"Digite um valor para procurar um produto parecido: \"))\n",
        "print(valorParecido(usuario2))"
      ]
    },
    {
      "cell_type": "markdown",
      "metadata": {
        "id": "xAvAjjbw_ROt"
      },
      "source": [
        "### Sets"
      ]
    },
    {
      "cell_type": "markdown",
      "metadata": {
        "id": "36Hum4akH9Ch"
      },
      "source": [
        "Teste"
      ]
    },
    {
      "cell_type": "code",
      "execution_count": null,
      "metadata": {
        "id": "ikLv9Pff_Pq2"
      },
      "outputs": [],
      "source": [
        "set_lista = {1, 2, 2, 2 , 4, 3}\n",
        "print(set_lista)\n",
        "\n",
        "for valor in set_lista:\n",
        "  print(valor)"
      ]
    },
    {
      "cell_type": "markdown",
      "metadata": {
        "id": "Q9qBFN3ulBBD"
      },
      "source": [
        "Exercício 5 - Utilizando Sets"
      ]
    },
    {
      "cell_type": "code",
      "execution_count": null,
      "metadata": {
        "id": "AOmcIUKzlGBm"
      },
      "outputs": [],
      "source": [
        "jef = {\"swift\", \"picpay\", \"original\", \"jbs\", \"friboi\", \"J&F\"}\n",
        "jbs = {\"swift\", \"friboi\", \"seara\", \"rezende\", \"delícia\", \"primor\", \"doriana\", \"massaleve\", \"marba\"}\n",
        "\n",
        "# A)\n",
        "print(f\"JEF possui {len(jef)} marcas, sendo elas:\")\n",
        "for marca in jef:\n",
        "  print(marca)\n",
        "\n",
        "print(\" \")\n",
        "\n",
        "print(f\"JBS possui {len(jbs)} marcas, sendo elas:\")\n",
        "for marca in jbs:\n",
        "  print(marca)\n",
        "\n",
        "# B) - Podemos utilizar a função intersection - jbs.intersection(jef).\n",
        "print(\" \")\n",
        "print(\"Interseções\")\n",
        "for intersecao in jef:\n",
        "  if intersecao in jbs:\n",
        "    print(intersecao)\n",
        "\n",
        "# C) - Podemos utilizar a função diference - jbs.symetric_diference(jef).\n",
        "print(\" \")\n",
        "print(\"Diferenças\")\n",
        "for diferenca in jef:\n",
        "  if diferenca not in jbs:\n",
        "    print(diferenca)\n",
        "\n",
        "for diferenca in jbs:\n",
        "  if diferenca not in jef:\n",
        "    print(diferenca)\n",
        "\n",
        "#Verificando a nova funcionalidade implementada no pull request"
      ]
    },
    {
      "cell_type": "markdown",
      "metadata": {
        "id": "E5bAP9_NHyLT"
      },
      "source": [
        "### Listas"
      ]
    },
    {
      "cell_type": "markdown",
      "metadata": {
        "id": "nwCzzGKtIDCW"
      },
      "source": [
        "Teste"
      ]
    },
    {
      "cell_type": "code",
      "execution_count": null,
      "metadata": {
        "id": "tuPkmNcrH0s2"
      },
      "outputs": [],
      "source": [
        "lista = []\n",
        "\n",
        "while True:\n",
        "  try:\n",
        "    teclado = int(input(\"Digite um valor inteiro: \"))\n",
        "    lista.append(teclado)\n",
        "  except ValueError:\n",
        "    break\n",
        "\n",
        "# A)\n",
        "print(f\"A lista possui {len(lista)} valores\")\n",
        "\n",
        "# B)\n"
      ]
    },
    {
      "cell_type": "markdown",
      "metadata": {},
      "source": [
        "Exercício 1"
      ]
    },
    {
      "cell_type": "code",
      "execution_count": 26,
      "metadata": {},
      "outputs": [
        {
          "name": "stdout",
          "output_type": "stream",
          "text": [
            "Aluno Nota1 Nota2 Média\n",
            "inaldo\n",
            "5\n",
            "2\n",
            "3.5\n",
            "inaldo\n",
            "5\n",
            "2\n",
            "3.5\n",
            "inaldo\n",
            "5\n",
            "2\n",
            "3.5\n",
            "inaldo\n",
            "5\n",
            "2\n",
            "3.5\n"
          ]
        }
      ],
      "source": [
        "notaAluno = []\n",
        "confirmacao = ()\n",
        "\n",
        "while True:\n",
        "    nome = str(input(\"Digite seu nome: \"))\n",
        "    nota1 = int(input(\"Digite a nota 1: \"))\n",
        "    nota2 = int(input(\"Digite a nota 2: \"))\n",
        "    media = (nota1+nota2)/2\n",
        "    \n",
        "    notaAluno.append(nome)\n",
        "    notaAluno.append(nota1)\n",
        "    notaAluno.append(nota2)\n",
        "    notaAluno.append(media)\n",
        "    \n",
        "    confirmacao = int(input(\"Deseja continuar? [1] Sim [0] Não\"))\n",
        "    if confirmacao == 0:\n",
        "        break\n",
        "\n",
        "quantLista = len(notaAluno)\n",
        "print(\"Aluno Nota1 Nota2 Média\") \n",
        "\n",
        "for a in notaAluno:\n",
        "    for c in range(quantLista):\n",
        "        print(a)\n",
        "\n"
      ]
    },
    {
      "cell_type": "markdown",
      "metadata": {},
      "source": [
        "### While ###"
      ]
    },
    {
      "cell_type": "code",
      "execution_count": null,
      "metadata": {},
      "outputs": [],
      "source": [
        "from datetime import date\n",
        "\n",
        "while True:\n",
        "    contratacao = int(input(\"Ano de contratação: \"))\n",
        "    if contratacao < 1995:\n",
        "        print(\"Ano de contratação menor que 1995.\")\n",
        "    else:\n",
        "        break\n",
        "    \n",
        "while True:\n",
        "    salario = float(input(\"Salário inicial: R$\"))\n",
        "    if salario < 1000:\n",
        "        print(\"Seu salário é inferior a 1000.\")\n",
        "    else:\n",
        "        break\n",
        "    \n",
        "percentAnual = float(1.5)\n",
        "anosTrabalhados = int(date.today().year - contratacao)       \n",
        "\n",
        "while anosTrabalhados != 0:\n",
        "    percentAnual += percentAnual/100 * 10\n",
        "    anosTrabalhados -= 1\n",
        "    print(f\"{percentAnual:.2f}%\")\n",
        "\n",
        "print(\"=-=-=-=-=-=-=-==-=-=-==-=-=-=-=-=-=-=\")\n",
        "\n",
        "salarioAtual = float(salario + (salario/100 * percentAnual))\n",
        "        \n",
        "print(\"Salário atual: R$\", round(salarioAtual, 2))\n",
        "print(f\"Porcentagem de aumento: {percentAnual:.2f}%\")\n",
        "\n",
        "print(\"=-=-=-=-=-=-=-==-=-=-==-=-=-=-=-=-=-=\")"
      ]
    }
  ],
  "metadata": {
    "colab": {
      "provenance": []
    },
    "kernelspec": {
      "display_name": "Python 3",
      "name": "python3"
    },
    "language_info": {
      "codemirror_mode": {
        "name": "ipython",
        "version": 3
      },
      "file_extension": ".py",
      "mimetype": "text/x-python",
      "name": "python",
      "nbconvert_exporter": "python",
      "pygments_lexer": "ipython3",
      "version": "3.12.2"
    }
  },
  "nbformat": 4,
  "nbformat_minor": 0
}
